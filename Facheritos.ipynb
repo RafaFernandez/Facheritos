{
 "cells": [
  {
   "cell_type": "code",
   "execution_count": 29,
   "id": "steady-watson",
   "metadata": {},
   "outputs": [],
   "source": [
    "import re\n",
    "import collections"
   ]
  },
  {
   "cell_type": "code",
   "execution_count": 30,
   "id": "signed-tooth",
   "metadata": {},
   "outputs": [
    {
     "name": "stdout",
     "output_type": "stream",
     "text": [
      "[('Antonio', 14), ('Carlos', 12), ('Luis', 11), ('Marcos', 6), ('Paco', 1), ('Juan', 1)]\n"
     ]
    }
   ],
   "source": [
    "ranking = 5\n",
    "resultados = \"\"\"1. Luis ...... 14578978\n",
    "2. Carlos ...... 787899\n",
    "3. Antonio ...... 457897\n",
    "4. Marcos ...... 14564\n",
    "5. Paco ...... 4578\n",
    "1. Luis ...... 14578978\n",
    "2. Carlos ...... 787899\n",
    "3. Antonio ...... 457897\n",
    "4. Marcos ...... 14564\n",
    "5. Juan ...... 4578\n",
    "1. Antonio ...... 14578978\n",
    "2. Carlos ...... 787899\n",
    "3. Antonio ...... 457897\n",
    "4. Marcos ...... 14564\n",
    "5. Luis ...... 4578\"\"\"\n",
    "\n",
    "resList = resultados.split(\"\\n\")\n",
    "pares = {}\n",
    "for res in resList:\n",
    "    par = re.findall(\"(.*) .\\.\\.\\.\",res)\n",
    "    for p in par:\n",
    "        pareja = p.split(\" \")\n",
    "        pareja[0] = pareja[0].replace(\" \",\"\").replace(\".\",\"\")\n",
    "        if pareja[1] not in pares:\n",
    "            pares[pareja[1]]  = ranking + 1 - int(pareja[0])\n",
    "        else:\n",
    "            pares[pareja[1]]  = pares[pareja[1]] + ranking + 1 - int(pareja[0])\n",
    "pares_ordenados = sorted(pares.items(), key=lambda kv: kv[1], reverse=True)\n",
    "print(pares_ordenados)\n",
    "        "
   ]
  },
  {
   "cell_type": "code",
   "execution_count": null,
   "id": "imperial-laptop",
   "metadata": {},
   "outputs": [],
   "source": []
  }
 ],
 "metadata": {
  "kernelspec": {
   "display_name": "Python 3",
   "language": "python",
   "name": "python3"
  },
  "language_info": {
   "codemirror_mode": {
    "name": "ipython",
    "version": 3
   },
   "file_extension": ".py",
   "mimetype": "text/x-python",
   "name": "python",
   "nbconvert_exporter": "python",
   "pygments_lexer": "ipython3",
   "version": "3.6.13"
  }
 },
 "nbformat": 4,
 "nbformat_minor": 5
}
